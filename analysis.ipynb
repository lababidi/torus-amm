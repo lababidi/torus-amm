{
 "cells": [
  {
   "cell_type": "code",
   "execution_count": 1,
   "id": "4bb1bab7-4c60-4fe9-9e7d-14f5bb2229ac",
   "metadata": {},
   "outputs": [],
   "source": [
    "import numpy as np\n",
    "import matplotlib.pylab as plt"
   ]
  },
  {
   "cell_type": "code",
   "execution_count": 17,
   "id": "f29d50e7-db8f-4f6d-bc90-19fa351b8ad4",
   "metadata": {},
   "outputs": [
    {
     "data": {
      "text/plain": [
       "array([0.70710678, 0.70710678])"
      ]
     },
     "execution_count": 17,
     "metadata": {},
     "output_type": "execute_result"
    }
   ],
   "source": [
    "n = 2\n",
    "sqrtn = np.sqrt(n)\n",
    "x = np.array([100_000]*n)\n",
    "v = np.ones_like(x)/sqrtn\n",
    "r = np.sqrt(x@x)\n",
    "x/r"
   ]
  },
  {
   "cell_type": "code",
   "execution_count": 37,
   "id": "5016791c-507c-4402-8c39-23ca8cf73f80",
   "metadata": {},
   "outputs": [],
   "source": [
    "liq = np.array([100_000, 200_000, 100_000])\n",
    "x_ = np.tile(liq, [n,1])\n",
    "r_ = np.sqrt(np.sum(x_*x_, axis=0))"
   ]
  },
  {
   "cell_type": "code",
   "execution_count": 44,
   "id": "b399cc22-b5be-43b5-a00d-6beed872ee71",
   "metadata": {},
   "outputs": [
    {
     "data": {
      "text/plain": [
       "np.float64(565685.4249492381)"
      ]
     },
     "execution_count": 44,
     "metadata": {},
     "output_type": "execute_result"
    }
   ],
   "source": [
    "xt = x_.sum(axis=1)\n",
    "rt = np.sqrt(xt@xt)\n",
    "rt"
   ]
  },
  {
   "cell_type": "code",
   "execution_count": 119,
   "id": "14008d69-a9c5-4986-8a36-4ecd0d2c5e5d",
   "metadata": {},
   "outputs": [
    {
     "data": {
      "text/plain": [
       "(array([0.99, 0.98, 0.97]),\n",
       " array([0.01, 0.02, 0.03]),\n",
       " array([237150.10882119, 240000.        , 242864.46891264]),\n",
       " array([234321.71722788, 234343.43139913, 234380.15627542]),\n",
       " array([ 59287.5272053 , 120000.        ,  60716.11722816]),\n",
       " np.float64(565685.4249492381),\n",
       " array([0.41922613, 0.42426407, 0.42932778]),\n",
       " array([0.41421785, 0.41423072, 0.41425216]),\n",
       " array([0.41422619, 0.41426457, 0.41432949]))"
      ]
     },
     "execution_count": 119,
     "metadata": {},
     "output_type": "execute_result"
    }
   ],
   "source": [
    "deltap = np.array([1/100, 2/100, 3/100])\n",
    "prices = 1 - deltap\n",
    "k = sqrtn - (prices + n - 1)/(sqrtn * np.sqrt(prices**2 + n - 1))"
   ]
  },
  {
   "cell_type": "code",
   "execution_count": 106,
   "id": "8180edcf-636a-4fd0-b37e-44d76e8bace2",
   "metadata": {},
   "outputs": [],
   "source": [
    "alph = (1-1/sqrtn)"
   ]
  },
  {
   "cell_type": "code",
   "execution_count": 136,
   "id": "00daad04-b7cc-4a37-b37b-fbc00695b5e6",
   "metadata": {},
   "outputs": [
    {
     "data": {
      "text/plain": [
       "(np.float64(0.4143294947239238), np.float64(0.03000000371592948))"
      ]
     },
     "execution_count": 136,
     "metadata": {},
     "output_type": "execute_result"
    },
    {
     "data": {
      "image/png": "[encoded data removed]",
      "text/plain": [
       "<Figure size 640x480 with 1 Axes>"
      ]
     },
     "metadata": {},
     "output_type": "display_data"
    }
   ],
   "source": [
    "xx = np.linspace(alph-.0106849,alph, 100)\n",
    "yy = 1 - np.sqrt(1 - (1 - xx)**2 )\n",
    "# plt.plot(xx, 1 - np.sqrt(1 - (1 - xx)**2 ) )\n",
    "price = (1-yy)/(1-xx)\n",
    "plt.plot(1- price, (xx + yy)/sqrtn)\n",
    "((xx + yy)/sqrtn)[0], (1-price)[0]"
   ]
  },
  {
   "cell_type": "code",
   "execution_count": 143,
   "id": "0af49634-27d6-4004-8937-3e8eb984b7a1",
   "metadata": {},
   "outputs": [
    {
     "data": {
      "text/plain": [
       "array([400000, 400000])"
      ]
     },
     "execution_count": 143,
     "metadata": {},
     "output_type": "execute_result"
    }
   ],
   "source": [
    "xt"
   ]
  },
  {
   "cell_type": "code",
   "execution_count": 150,
   "id": "e7938323-936d-4181-9391-c25932a39338",
   "metadata": {},
   "outputs": [],
   "source": [
    "import scipy.optimize"
   ]
  },
  {
   "cell_type": "code",
   "execution_count": 187,
   "id": "89c4a3b3-2920-4037-9ee2-492af5c7ca94",
   "metadata": {},
   "outputs": [
    {
     "data": {
      "text/plain": [
       "np.float64(1365685.4249492376)"
      ]
     },
     "execution_count": 187,
     "metadata": {},
     "output_type": "execute_result"
    }
   ],
   "source": [
    "rint = xt[0]/alph\n",
    "kbound = 0#xt@v\n",
    "rint\n"
   ]
  },
  {
   "cell_type": "code",
   "execution_count": 188,
   "id": "211fdfd6-a7c8-4012-91d5-48f566b62c49",
   "metadata": {},
   "outputs": [],
   "source": [
    "def f(x1, x0):\n",
    "    xt = np.array([x0,x1[0]]).T\n",
    "    return (xt@v - kbound - rint*sqrtn)**2 + ( np.sqrt((xt**2).sum() - (xt.sum()**2)/n) - 0 )**2 - rint**2"
   ]
  },
  {
   "cell_type": "code",
   "execution_count": 206,
   "id": "272a4c0b-342b-421b-b55a-cc4e4b4498dd",
   "metadata": {},
   "outputs": [],
   "source": [
    "def f1(x1, x0):\n",
    "    xt = np.array([x0,x1[0]]).T\n",
    "    x2y2 = ((xt**2).sum() - (xt.sum()**2)/n)\n",
    "    return (\n",
    "        (\n",
    "            (xt@v - kbound - rint*sqrtn)**2 + \n",
    "            x2y2 + \n",
    "            ( 0  )**2 - \n",
    "            rint**2\n",
    "        )**2 \n",
    "        - 4 * ( 0 ) * x2y2\n",
    "    )"
   ]
  },
  {
   "cell_type": "code",
   "execution_count": 207,
   "id": "fb74dd91-4611-420b-8d4b-a15318bb1286",
   "metadata": {},
   "outputs": [
    {
     "data": {
      "text/plain": [
       "(array([0.97939434]), array([410104.64267052]), np.float64(0.4142677428897599))"
      ]
     },
     "execution_count": 207,
     "metadata": {},
     "output_type": "execute_result"
    }
   ],
   "source": [
    "dx = -10000\n",
    "x_ = xt[0] + dx\n",
    "y_ = scipy.optimize.fsolve(f1, xt[0]-dx, args=(x_,))\n",
    "(rint-y_)/(rint-x_), y_, np.array([x_, y_[0]])@v/rint"
   ]
  },
  {
   "cell_type": "code",
   "execution_count": 166,
   "id": "a7a5744b-8ddc-4e34-b05d-179a85f2ca3a",
   "metadata": {},
   "outputs": [
    {
     "data": {
      "text/plain": [
       "array([400000, 400000])"
      ]
     },
     "execution_count": 166,
     "metadata": {},
     "output_type": "execute_result"
    }
   ],
   "source": [
    "xt"
   ]
  },
  {
   "cell_type": "code",
   "execution_count": 149,
   "id": "1a843b21-5782-4cc0-99a5-8fee01661f57",
   "metadata": {},
   "outputs": [
    {
     "data": {
      "text/plain": [
       "np.float64(0.0)"
      ]
     },
     "execution_count": 149,
     "metadata": {},
     "output_type": "execute_result"
    }
   ],
   "source": [
    "f(xt)"
   ]
  },
  {
   "cell_type": "code",
   "execution_count": 142,
   "id": "f39363d2-af5d-4ba6-b33e-11527b2161ec",
   "metadata": {},
   "outputs": [
    {
     "data": {
      "text/plain": [
       "(np.float64(565685.424949238), array([5.82076609e-11, 5.82076609e-11]))"
      ]
     },
     "execution_count": 142,
     "metadata": {},
     "output_type": "execute_result"
    }
   ],
   "source": [
    "xt@v, xt - (xt@v)*v"
   ]
  },
  {
   "cell_type": "code",
   "execution_count": 138,
   "id": "2f1b0e4e-6ec7-4535-8791-677384531a88",
   "metadata": {},
   "outputs": [
    {
     "data": {
      "text/plain": [
       "np.float64(0.9999999999999998)"
      ]
     },
     "execution_count": 138,
     "metadata": {},
     "output_type": "execute_result"
    }
   ],
   "source": [
    "xt@v/rt"
   ]
  },
  {
   "cell_type": "code",
   "execution_count": 139,
   "id": "04e7488e-0a25-4945-aa30-2965b1dfca23",
   "metadata": {},
   "outputs": [
    {
     "data": {
      "text/plain": [
       "array([0.41421785, 0.41423072, 0.41425216])"
      ]
     },
     "execution_count": 139,
     "metadata": {},
     "output_type": "execute_result"
    }
   ],
   "source": [
    "(n - 1)*np.sqrt(alpha)/(sqrtn * np.sqrt(alpha) + 1)"
   ]
  },
  {
   "cell_type": "code",
   "execution_count": 140,
   "id": "d2f7876b-b37e-45ec-aeb7-7ffbb5949391",
   "metadata": {},
   "outputs": [
    {
     "data": {
      "text/plain": [
       "array([141421.35623731, 282842.71247462, 141421.35623731])"
      ]
     },
     "execution_count": 140,
     "metadata": {},
     "output_type": "execute_result"
    }
   ],
   "source": [
    "x_.T@v"
   ]
  },
  {
   "cell_type": "code",
   "execution_count": 60,
   "id": "5d902ee6-7435-4f42-99f1-c2b9040767ba",
   "metadata": {},
   "outputs": [
    {
     "data": {
      "text/plain": [
       "array([[100000, 200000, 100000],\n",
       "       [100000, 200000, 100000]])"
      ]
     },
     "execution_count": 60,
     "metadata": {},
     "output_type": "execute_result"
    }
   ],
   "source": [
    "x_\n"
   ]
  },
  {
   "cell_type": "code",
   "execution_count": 61,
   "id": "631934fb-a27d-4d7c-93a4-3ddfe5ce6073",
   "metadata": {},
   "outputs": [
    {
     "data": {
      "text/plain": [
       "array([0.70710678, 0.70710678])"
      ]
     },
     "execution_count": 61,
     "metadata": {},
     "output_type": "execute_result"
    }
   ],
   "source": [
    "v"
   ]
  },
  {
   "cell_type": "code",
   "execution_count": 47,
   "id": "afc07a4e-e64f-41e9-ab37-2339cccd735f",
   "metadata": {},
   "outputs": [
    {
     "data": {
      "text/plain": [
       "array([400000, 400000])"
      ]
     },
     "execution_count": 47,
     "metadata": {},
     "output_type": "execute_result"
    }
   ],
   "source": [
    "xt"
   ]
  },
  {
   "cell_type": "code",
   "execution_count": 51,
   "id": "29eeb7c3-b84d-416c-8836-a14b74222272",
   "metadata": {},
   "outputs": [
    {
     "data": {
      "text/plain": [
       "np.float64(0.9987936213327484)"
      ]
     },
     "execution_count": 51,
     "metadata": {},
     "output_type": "execute_result"
    }
   ],
   "source": [
    "d = 100\n",
    "(rt - xt[0]-d)/(rt - xt[1]+100)"
   ]
  },
  {
   "cell_type": "code",
   "execution_count": null,
   "id": "743c48cf-5831-4a03-9bd8-3e0bd1af3e06",
   "metadata": {},
   "outputs": [],
   "source": []
  }
 ],
 "metadata": {
  "kernelspec": {
   "display_name": "Python 3 (ipykernel)",
   "language": "python",
   "name": "python3"
  },
  "language_info": {
   "codemirror_mode": {
    "name": "ipython",
    "version": 3
   },
   "file_extension": ".py",
   "mimetype": "text/x-python",
   "name": "python",
   "nbconvert_exporter": "python",
   "pygments_lexer": "ipython3",
   "version": "3.13.5"
  }
 },
 "nbformat": 4,
 "nbformat_minor": 5
}
